{
 "cells": [
  {
   "cell_type": "markdown",
   "metadata": {},
   "source": [
    "# LogisticRegression Exam one\n",
    "- time : 2019-9-18\n",
    "- author : HB"
   ]
  },
  {
   "cell_type": "code",
   "execution_count": 641,
   "metadata": {},
   "outputs": [],
   "source": [
    "# import necessary package\n",
    "import pandas as pd;\n",
    "import matplotlib.pyplot as plt;\n",
    "import numpy as np;\n",
    "# The package is used to get the optimal parameters\n",
    "import scipy.optimize as opt;"
   ]
  },
  {
   "cell_type": "markdown",
   "metadata": {},
   "source": [
    "# Get data"
   ]
  },
  {
   "cell_type": "code",
   "execution_count": 642,
   "metadata": {},
   "outputs": [
    {
     "data": {
      "text/html": [
       "<div>\n",
       "<style scoped>\n",
       "    .dataframe tbody tr th:only-of-type {\n",
       "        vertical-align: middle;\n",
       "    }\n",
       "\n",
       "    .dataframe tbody tr th {\n",
       "        vertical-align: top;\n",
       "    }\n",
       "\n",
       "    .dataframe thead th {\n",
       "        text-align: right;\n",
       "    }\n",
       "</style>\n",
       "<table border=\"1\" class=\"dataframe\">\n",
       "  <thead>\n",
       "    <tr style=\"text-align: right;\">\n",
       "      <th></th>\n",
       "      <th>Score1</th>\n",
       "      <th>Score2</th>\n",
       "      <th>Admission</th>\n",
       "    </tr>\n",
       "  </thead>\n",
       "  <tbody>\n",
       "    <tr>\n",
       "      <th>0</th>\n",
       "      <td>34.623660</td>\n",
       "      <td>78.024693</td>\n",
       "      <td>0</td>\n",
       "    </tr>\n",
       "    <tr>\n",
       "      <th>1</th>\n",
       "      <td>30.286711</td>\n",
       "      <td>43.894998</td>\n",
       "      <td>0</td>\n",
       "    </tr>\n",
       "    <tr>\n",
       "      <th>2</th>\n",
       "      <td>35.847409</td>\n",
       "      <td>72.902198</td>\n",
       "      <td>0</td>\n",
       "    </tr>\n",
       "    <tr>\n",
       "      <th>3</th>\n",
       "      <td>60.182599</td>\n",
       "      <td>86.308552</td>\n",
       "      <td>1</td>\n",
       "    </tr>\n",
       "    <tr>\n",
       "      <th>4</th>\n",
       "      <td>79.032736</td>\n",
       "      <td>75.344376</td>\n",
       "      <td>1</td>\n",
       "    </tr>\n",
       "  </tbody>\n",
       "</table>\n",
       "</div>"
      ],
      "text/plain": [
       "      Score1     Score2  Admission\n",
       "0  34.623660  78.024693          0\n",
       "1  30.286711  43.894998          0\n",
       "2  35.847409  72.902198          0\n",
       "3  60.182599  86.308552          1\n",
       "4  79.032736  75.344376          1"
      ]
     },
     "execution_count": 642,
     "metadata": {},
     "output_type": "execute_result"
    }
   ],
   "source": [
    "# get data\n",
    "data = pd.read_csv('ex2data1.txt',names=['Score1','Score2','Admission']);\n",
    "data.head()"
   ]
  },
  {
   "cell_type": "markdown",
   "metadata": {},
   "source": [
    "# Plot data"
   ]
  },
  {
   "cell_type": "code",
   "execution_count": 643,
   "metadata": {},
   "outputs": [
    {
     "data": {
      "image/png": "[encoded data removed]",
      "text/plain": [
       "<Figure size 864x576 with 1 Axes>"
      ]
     },
     "metadata": {},
     "output_type": "display_data"
    }
   ],
   "source": [
    "# plot data \n",
    "def plot_data(ax):\n",
    "    pos = data[data['Admission'].isin([1])];  #data['Admission'].isin([1]) 从Admission列中找到值为1的行 表现为ture or false, 若索引为boolean类型，若值为True则进行显示　\n",
    "    neg = data[data['Admission'].isin([0])];\n",
    "    ax.scatter(pos['Score1'],pos['Score2'],s=50,c='b',marker='o',label='Admitted');\n",
    "    ax.scatter(neg['Score1'],neg['Score2'],s=50,c='r',marker='x',label='Not admitted');\n",
    "    ax.legend(loc=1);\n",
    "    ax.set_xlabel('Score1');\n",
    "    ax.set_ylabel('Score2');\n",
    "    plt.show()\n",
    "\n",
    "fig,ax = plt.subplots(1,1,figsize=(12,8));  # 创建一个画布\n",
    "plot_data(ax);"
   ]
  },
  {
   "cell_type": "markdown",
   "metadata": {},
   "source": [
    "# Public Function"
   ]
  },
  {
   "cell_type": "code",
   "execution_count": 644,
   "metadata": {},
   "outputs": [],
   "source": [
    "# get X\n",
    "def get_X(data):\n",
    "    ones = pd.DataFrame({'ones': np.ones(len(data))});\n",
    "    data = pd.concat([ones,data],axis=1);\n",
    "    return data.iloc[:,:-1].values;\n",
    "# get y\n",
    "def get_y(data):\n",
    "    return data.iloc[:,-1].values;\n",
    "# sigmoid function\n",
    "def sigmoid(z):\n",
    "    sigmoid = 1/(1+np.exp(-z)); # 1/vector 已经是点乘\n",
    "    return sigmoid;\n",
    "# predict function(about data set)\n",
    "def predict(theta,X):\n",
    "    probability = sigmoid(X*theta);\n",
    "    return [1 if x>=0.5 else 0 for x in probability ];\n",
    "\n",
    "# sigmoid function testing\n",
    "# nums = np.arange(-10,10,step=1);\n",
    "# fig,ax = plt.subplots(figsize=(12,8));\n",
    "# ax.plot(nums,sigmoid(nums),'r');\n",
    "# plt.show();"
   ]
  },
  {
   "cell_type": "markdown",
   "metadata": {},
   "source": [
    "# Cost Function"
   ]
  },
  {
   "cell_type": "code",
   "execution_count": 645,
   "metadata": {},
   "outputs": [],
   "source": [
    "# cost&gradient function（we can get cost & gradient）\n",
    "def cost(theta,X,y):\n",
    "    theta = np.matrix(theta).T;\n",
    "    z = X*theta;\n",
    "    h = sigmoid(z);\n",
    "    m = len(X);\n",
    "    # The implement of cost\n",
    "    costError0 = np.multiply((1-y),np.log(1-h));\n",
    "    costError1 = np.multiply(y,np.log(h)); \n",
    "    J = -(np.sum(costError0+costError1))/m;\n",
    "    # The implement of gradient\n",
    "    Error = X.T*(h-y);\n",
    "    gradient = (1/m)*Error;\n",
    "    return J,gradient;"
   ]
  },
  {
   "cell_type": "markdown",
   "metadata": {},
   "source": [
    "# The test of Cost&Gradient"
   ]
  },
  {
   "cell_type": "code",
   "execution_count": 646,
   "metadata": {},
   "outputs": [
    {
     "data": {
      "text/plain": [
       "matrix([[ -0.1       ],\n",
       "        [-12.00921659],\n",
       "        [-11.26284221]])"
      ]
     },
     "execution_count": 646,
     "metadata": {},
     "output_type": "execute_result"
    }
   ],
   "source": [
    "# initial parameter\n",
    "X = get_X(data);\n",
    "y = get_y(data);\n",
    "theta = np.zeros(3);\n",
    "# 进行矩阵转换\n",
    "X = np.matrix(X);\n",
    "y = np.matrix(y).T;  #为了统一, 把y转换为列向量\n",
    "\n",
    "# cost & gradient testing  \n",
    "J,gradient = cost(theta,X,y);\n",
    "J\n",
    "gradient"
   ]
  },
  {
   "cell_type": "markdown",
   "metadata": {},
   "source": [
    "# Find the optimal parameters with SciPy's truncated newton (TNC)"
   ]
  },
  {
   "cell_type": "code",
   "execution_count": 647,
   "metadata": {},
   "outputs": [
    {
     "data": {
      "text/plain": [
       "(array([-25.16131881,   0.20623159,   0.20147149]), 36, 0)"
      ]
     },
     "execution_count": 647,
     "metadata": {},
     "output_type": "execute_result"
    }
   ],
   "source": [
    "# 截断牛顿法,  func：优化的目标函数， x0：初值 ，fprime：提供优化函数func的梯度函数，不然优化函数func必须返回函数值和梯度，或者设置approx_grad=True，\n",
    "#approx_grad :如果设置为True，会给出近似梯度, args：元组，是传递给优化函数的参数\n",
    "result = opt.fmin_tnc(func=cost, x0=theta, fprime=None, args=(X, y))  \n",
    "result"
   ]
  },
  {
   "cell_type": "markdown",
   "metadata": {},
   "source": [
    "# Plot desicion boundary"
   ]
  },
  {
   "cell_type": "code",
   "execution_count": 648,
   "metadata": {},
   "outputs": [
    {
     "data": {
      "image/png": "[encoded data removed]",
      "text/plain": [
       "<Figure size 432x288 with 1 Axes>"
      ]
     },
     "metadata": {},
     "output_type": "display_data"
    }
   ],
   "source": [
    "theta_better = np.matrix(result[0]).T;\n",
    "plot_x = [X[:,1].min()-2,X[:,1].max()+2];\n",
    "tmp = ((-1/theta_better[2])*(theta_better[1]*plot_x+theta_better[0])); # 为啥y是matrix 因为theta_better为matrix\n",
    "plot_y = [tmp[0,0],tmp[0,1]];  # 把matrix转换为list\n",
    "fig,ax = plt.subplots(1,1,figsize=(6,4));\n",
    "ax.plot(plot_x,plot_y,'r',label='Desicion Boundary');\n",
    "plot_data(ax);\n",
    "plt.show()"
   ]
  },
  {
   "cell_type": "markdown",
   "metadata": {},
   "source": [
    "# Test accuracy rate"
   ]
  },
  {
   "cell_type": "code",
   "execution_count": 649,
   "metadata": {},
   "outputs": [
    {
     "name": "stdout",
     "output_type": "stream",
     "text": [
      "The accuracy is 89%\n"
     ]
    }
   ],
   "source": [
    "theta_better = np.matrix(result[0]).T;\n",
    "predictions = predict(theta_better,X);\n",
    "# zip() 函数用于将可迭代的对象作为参数，将对象中对应的元素打包成一个个元组，然后返回由这些元组组成的列表。\n",
    "# e.g. a = [1,2,3]  b = [4,5,6] zipped = zip(a,b) [(1, 4), (2, 5), (3, 6)]\n",
    "correct = [1 if ((a==1 and b ==1) or (a==0 and b==0)) else 0 for (a,b) in zip(predictions,y)];\n",
    "accuracy = (sum(map(int,correct))) % len(predictions);\n",
    "print('The accuracy is {0}%'.format(accuracy));"
   ]
  },
  {
   "cell_type": "code",
   "execution_count": null,
   "metadata": {},
   "outputs": [],
   "source": []
  },
  {
   "cell_type": "code",
   "execution_count": null,
   "metadata": {},
   "outputs": [],
   "source": []
  }
 ],
 "metadata": {
  "kernelspec": {
   "display_name": "Python 3",
   "language": "python",
   "name": "python3"
  },
  "language_info": {
   "codemirror_mode": {
    "name": "ipython",
    "version": 3
   },
   "file_extension": ".py",
   "mimetype": "text/x-python",
   "name": "python",
   "nbconvert_exporter": "python",
   "pygments_lexer": "ipython3",
   "version": "3.7.3"
  }
 },
 "nbformat": 4,
 "nbformat_minor": 2
}
