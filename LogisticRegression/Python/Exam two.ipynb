{
 "cells": [
  {
   "cell_type": "markdown",
   "metadata": {},
   "source": [
    "# LogisticRegression Exam one\n",
    "- time : 2019-9-18\n",
    "- author : HB"
   ]
  },
  {
   "cell_type": "code",
   "execution_count": 1,
   "metadata": {},
   "outputs": [],
   "source": [
    "# import necessary package\n",
    "import pandas as pd;\n",
    "import matplotlib.pyplot as plt;\n",
    "import numpy as np;\n",
    "# The package is used to get the optimal parameters\n",
    "import scipy.optimize as opt;"
   ]
  },
  {
   "cell_type": "markdown",
   "metadata": {},
   "source": [
    "# Get data"
   ]
  },
  {
   "cell_type": "code",
   "execution_count": 2,
   "metadata": {},
   "outputs": [
    {
     "data": {
      "text/html": [
       "<div>\n",
       "<style scoped>\n",
       "    .dataframe tbody tr th:only-of-type {\n",
       "        vertical-align: middle;\n",
       "    }\n",
       "\n",
       "    .dataframe tbody tr th {\n",
       "        vertical-align: top;\n",
       "    }\n",
       "\n",
       "    .dataframe thead th {\n",
       "        text-align: right;\n",
       "    }\n",
       "</style>\n",
       "<table border=\"1\" class=\"dataframe\">\n",
       "  <thead>\n",
       "    <tr style=\"text-align: right;\">\n",
       "      <th></th>\n",
       "      <th>Test1</th>\n",
       "      <th>Test2</th>\n",
       "      <th>Desicion</th>\n",
       "    </tr>\n",
       "  </thead>\n",
       "  <tbody>\n",
       "    <tr>\n",
       "      <th>0</th>\n",
       "      <td>0.051267</td>\n",
       "      <td>0.69956</td>\n",
       "      <td>1</td>\n",
       "    </tr>\n",
       "    <tr>\n",
       "      <th>1</th>\n",
       "      <td>-0.092742</td>\n",
       "      <td>0.68494</td>\n",
       "      <td>1</td>\n",
       "    </tr>\n",
       "    <tr>\n",
       "      <th>2</th>\n",
       "      <td>-0.213710</td>\n",
       "      <td>0.69225</td>\n",
       "      <td>1</td>\n",
       "    </tr>\n",
       "    <tr>\n",
       "      <th>3</th>\n",
       "      <td>-0.375000</td>\n",
       "      <td>0.50219</td>\n",
       "      <td>1</td>\n",
       "    </tr>\n",
       "    <tr>\n",
       "      <th>4</th>\n",
       "      <td>-0.513250</td>\n",
       "      <td>0.46564</td>\n",
       "      <td>1</td>\n",
       "    </tr>\n",
       "  </tbody>\n",
       "</table>\n",
       "</div>"
      ],
      "text/plain": [
       "      Test1    Test2  Desicion\n",
       "0  0.051267  0.69956         1\n",
       "1 -0.092742  0.68494         1\n",
       "2 -0.213710  0.69225         1\n",
       "3 -0.375000  0.50219         1\n",
       "4 -0.513250  0.46564         1"
      ]
     },
     "execution_count": 2,
     "metadata": {},
     "output_type": "execute_result"
    }
   ],
   "source": [
    "data = pd.read_csv('ex2data2.txt',names=['Test1','Test2','Desicion']);\n",
    "data.head()"
   ]
  },
  {
   "cell_type": "markdown",
   "metadata": {},
   "source": [
    "# Plot data"
   ]
  },
  {
   "cell_type": "code",
   "execution_count": 3,
   "metadata": {},
   "outputs": [
    {
     "data": {
      "image/png": "[encoded data removed]",
      "text/plain": [
       "<Figure size 864x576 with 1 Axes>"
      ]
     },
     "metadata": {
      "needs_background": "light"
     },
     "output_type": "display_data"
    }
   ],
   "source": [
    "def plot_data(ax):\n",
    "    pos = data[data['Desicion'].isin([1])];\n",
    "    neg = data[data['Desicion'].isin([0])];\n",
    "    ax.scatter(pos['Test1'],pos['Test2'],s=50,c='b',marker='o',label='Accepted');\n",
    "    ax.scatter(neg['Test1'],neg['Test2'],s=50,c='c',marker='x',label='Rejected');\n",
    "    ax.legend(loc=1);\n",
    "    ax.set_xlabel('Test 1');\n",
    "    ax.set_ylabel('Test 2');\n",
    "    plt.show();\n",
    "fig,ax = plt.subplots(figsize=(12,8));\n",
    "plot_data(ax); "
   ]
  },
  {
   "cell_type": "markdown",
   "metadata": {},
   "source": [
    "# Public Function"
   ]
  },
  {
   "cell_type": "code",
   "execution_count": 4,
   "metadata": {},
   "outputs": [],
   "source": [
    "# extend feature items(X1 X2 is array)\n",
    "def map_feature(X1,X2):\n",
    "    # 存储新的特征\n",
    "    out = np.ones([len(X1),1]);\n",
    "    for i in range(1,7):   # 1 - 6依次进行迭代\n",
    "        for j in range(0,i+1): # 0 - i进行迭代\n",
    "            newColumn = np.power(X1,(i-j))*np.power(X2,j);\n",
    "            addColumn = newColumn.reshape(len(X1),1);  # 把数组重新排列,方便拼接\n",
    "            out = np.column_stack((out,addColumn));  # 按行拼接\n",
    "    return out;\n",
    "\n",
    "# get y\n",
    "def get_y(data):\n",
    "    return data.iloc[:,-1].values;\n",
    "\n",
    "# sigmoid function\n",
    "def sigmoid(z):\n",
    "    sigmoid = 1/(1+np.exp(-z)); # 1/vector 已经是点乘\n",
    "    return sigmoid;\n",
    "\n",
    "# predict function(about data set)\n",
    "def predict(theta,X):\n",
    "    probability = sigmoid(X*theta);\n",
    "    return [1 if x>=0.5 else 0 for x in probability ];"
   ]
  },
  {
   "cell_type": "markdown",
   "metadata": {},
   "source": [
    "# Cost Function"
   ]
  },
  {
   "cell_type": "code",
   "execution_count": 5,
   "metadata": {},
   "outputs": [],
   "source": [
    "# cost&gradient function（we can get cost & gradient）\n",
    "def cost(theta,X,y,lamb):\n",
    "    theta = np.matrix(theta).T;\n",
    "    z = X*theta;\n",
    "    h = sigmoid(z);\n",
    "    m = len(X);\n",
    "    # The implement of cost\n",
    "    costError0 = np.multiply((1-y),np.log(1-h));  \n",
    "    costError1 = np.multiply(y,np.log(h)); \n",
    "    # regularization item（exclude x0）\n",
    "    regItem = np.sum(np.power(theta[1:28],2));\n",
    "    J = -(np.sum(costError0+costError1))/m + (lamb/(2*m)*regItem);\n",
    "    # The implement of gradient\n",
    "    Error = X.T*(h-y);\n",
    "    gradient = (1/m)*Error + (lamb/m)*theta;\n",
    "    # special treatment for x0\n",
    "    gradient[0,:] = (1/m)*Error[0,:];\n",
    "    return J,gradient;"
   ]
  },
  {
   "cell_type": "markdown",
   "metadata": {},
   "source": [
    "# The test of Cost&Gradient"
   ]
  },
  {
   "cell_type": "code",
   "execution_count": 6,
   "metadata": {},
   "outputs": [
    {
     "data": {
      "text/plain": [
       "matrix([[8.47457627e-03],\n",
       "        [1.87880932e-02],\n",
       "        [7.77711864e-05],\n",
       "        [5.03446395e-02],\n",
       "        [1.15013308e-02],\n",
       "        [3.76648474e-02],\n",
       "        [1.83559872e-02],\n",
       "        [7.32393391e-03],\n",
       "        [8.19244468e-03],\n",
       "        [2.34764889e-02],\n",
       "        [3.93486234e-02],\n",
       "        [2.23923907e-03],\n",
       "        [1.28600503e-02],\n",
       "        [3.09593720e-03],\n",
       "        [3.93028171e-02],\n",
       "        [1.99707467e-02],\n",
       "        [4.32983232e-03],\n",
       "        [3.38643902e-03],\n",
       "        [5.83822078e-03],\n",
       "        [4.47629067e-03],\n",
       "        [3.10079849e-02],\n",
       "        [3.10312442e-02],\n",
       "        [1.09740238e-03],\n",
       "        [6.31570797e-03],\n",
       "        [4.08503006e-04],\n",
       "        [7.26504316e-03],\n",
       "        [1.37646175e-03],\n",
       "        [3.87936363e-02]])"
      ]
     },
     "execution_count": 6,
     "metadata": {},
     "output_type": "execute_result"
    }
   ],
   "source": [
    "# cost & gradient function testing\n",
    "y = get_y(data);\n",
    "X = map_feature(data['Test1'].values,data['Test2'].values);\n",
    "theta = np.zeros(28);\n",
    "# 进行矩阵转换\n",
    "X = np.matrix(X);\n",
    "y = np.matrix(y).T;  #为了统一, 把y转换为列向量\n",
    "lamb=1;\n",
    "J,gradient = cost(theta,X,y,lamb);\n",
    "J\n",
    "gradient"
   ]
  },
  {
   "cell_type": "markdown",
   "metadata": {},
   "source": [
    "# Find the optimal parameters with SciPy's truncated newton (TNC)"
   ]
  },
  {
   "cell_type": "code",
   "execution_count": 7,
   "metadata": {},
   "outputs": [
    {
     "data": {
      "text/plain": [
       "(array([ 1.27271027,  0.62529965,  1.18111686, -2.019874  , -0.91743189,\n",
       "        -1.43166929,  0.12393227, -0.36553118, -0.35725406, -0.17516292,\n",
       "        -1.4581701 , -0.05098418, -0.61558559, -0.27469166, -1.19271299,\n",
       "        -0.24217841, -0.20603303, -0.04466178, -0.27778947, -0.29539514,\n",
       "        -0.45645983, -1.04319153,  0.02779373, -0.29244864,  0.01555759,\n",
       "        -0.32742404, -0.14389149, -0.92467488]), 32, 1)"
      ]
     },
     "execution_count": 7,
     "metadata": {},
     "output_type": "execute_result"
    }
   ],
   "source": [
    "# 截断牛顿法\n",
    "result = opt.fmin_tnc(func=cost, x0=theta, fprime=None, args=(X, y,lamb))  \n",
    "result"
   ]
  },
  {
   "cell_type": "markdown",
   "metadata": {},
   "source": [
    "# Plot desicion boundary"
   ]
  },
  {
   "cell_type": "code",
   "execution_count": 8,
   "metadata": {},
   "outputs": [
    {
     "data": {
      "image/png": "[encoded data removed]",
      "text/plain": [
       "<Figure size 720x576 with 1 Axes>"
      ]
     },
     "metadata": {
      "needs_background": "light"
     },
     "output_type": "display_data"
    }
   ],
   "source": [
    "theta_better = np.matrix(result[0]).T;\n",
    "u = np.linspace(-1,1.5,50);\n",
    "v = np.linspace(-1,1.5,50);\n",
    "z = np.zeros([len(u),len(v)]);\n",
    "for i in range(0,len(u)):\n",
    "    for j in range(0,len(v)):\n",
    "        z[i][j] = map_feature([u[i]],[v[j]])*theta_better;\n",
    "\n",
    "z = z.T;\n",
    "fig,ax = plt.subplots(figsize=(10,8));\n",
    "ax.contour(u,v,z,0);\n",
    "plot_data(ax);\n",
    "plt.show();"
   ]
  },
  {
   "cell_type": "markdown",
   "metadata": {},
   "source": [
    "# Test accuracy rate"
   ]
  },
  {
   "cell_type": "code",
   "execution_count": 9,
   "metadata": {},
   "outputs": [
    {
     "name": "stdout",
     "output_type": "stream",
     "text": [
      "accuracy = 98%\n"
     ]
    }
   ],
   "source": [
    "predictions = predict(theta_better, X)\n",
    "correct = [1 if ((a == 1 and b == 1) or (a == 0 and b == 0)) else 0 for (a, b) in zip(predictions, y)]\n",
    "accuracy = (sum(map(int, correct)) % len(predictions))\n",
    "print ('accuracy = {0}%'.format(accuracy))"
   ]
  }
 ],
 "metadata": {
  "kernelspec": {
   "display_name": "Python 3",
   "language": "python",
   "name": "python3"
  },
  "language_info": {
   "codemirror_mode": {
    "name": "ipython",
    "version": 3
   },
   "file_extension": ".py",
   "mimetype": "text/x-python",
   "name": "python",
   "nbconvert_exporter": "python",
   "pygments_lexer": "ipython3",
   "version": "3.7.3"
  }
 },
 "nbformat": 4,
 "nbformat_minor": 2
}
