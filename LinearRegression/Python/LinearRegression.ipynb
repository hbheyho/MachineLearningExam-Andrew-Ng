{
 "cells": [
  {
   "cell_type": "markdown",
   "metadata": {},
   "source": [
    "# LinearRegression\n",
    "- time：2019-8-31\n",
    "- author：HB"
   ]
  },
  {
   "cell_type": "code",
   "execution_count": 1,
   "metadata": {},
   "outputs": [],
   "source": [
    "# 导入数据分析所需要的包\n",
    "import pandas as pd   # 快速数据处理包\n",
    "import seaborn as sns  # seaborn包为数据可视化, Matplotlib的进一步封装\n",
    "sns.set(context=\"notebook\",style=\"whitegrid\",palette=\"dark\")  # 设置图形样式\n",
    "import matplotlib.pyplot as plt  # Matplotlib提供了一种有效的 MatLab 开源替代方案\n",
    "import numpy as np   # 常用的数值计算包"
   ]
  },
  {
   "cell_type": "markdown",
   "metadata": {},
   "source": [
    "## Get data(univariant)"
   ]
  },
  {
   "cell_type": "code",
   "execution_count": 2,
   "metadata": {},
   "outputs": [],
   "source": [
    "# 从外部文件中进行数据读取\n",
    "df = pd.read_csv('ex1data1.txt',names=['population','profit']);  # 读取数据并赋予列名\n",
    "df.head(); # 查看前五行数据\n",
    "# df.info(); # 显示数据的一些对象信息和内存使用"
   ]
  },
  {
   "cell_type": "code",
   "execution_count": 3,
   "metadata": {
    "scrolled": true
   },
   "outputs": [
    {
     "data": {
      "image/png": "[encoded data removed]",
      "text/plain": [
       "<Figure size 432x432 with 1 Axes>"
      ]
     },
     "metadata": {
      "needs_background": "light"
     },
     "output_type": "display_data"
    }
   ],
   "source": [
    "# 画出数据集\n",
    "sns.lmplot('population','profit',df,height=6,fit_reg=False);  # fit_reg如果为True，则估计并绘制与x和y变量相关的回归模型\n",
    "plt.show();"
   ]
  },
  {
   "cell_type": "markdown",
   "metadata": {},
   "source": [
    "## Get data(multivariable) "
   ]
  },
  {
   "cell_type": "code",
   "execution_count": 4,
   "metadata": {
    "scrolled": true
   },
   "outputs": [
    {
     "data": {
      "text/html": [
       "<div>\n",
       "<style scoped>\n",
       "    .dataframe tbody tr th:only-of-type {\n",
       "        vertical-align: middle;\n",
       "    }\n",
       "\n",
       "    .dataframe tbody tr th {\n",
       "        vertical-align: top;\n",
       "    }\n",
       "\n",
       "    .dataframe thead th {\n",
       "        text-align: right;\n",
       "    }\n",
       "</style>\n",
       "<table border=\"1\" class=\"dataframe\">\n",
       "  <thead>\n",
       "    <tr style=\"text-align: right;\">\n",
       "      <th></th>\n",
       "      <th>square</th>\n",
       "      <th>bedrooms</th>\n",
       "      <th>price</th>\n",
       "    </tr>\n",
       "  </thead>\n",
       "  <tbody>\n",
       "    <tr>\n",
       "      <th>0</th>\n",
       "      <td>2104</td>\n",
       "      <td>3</td>\n",
       "      <td>399900</td>\n",
       "    </tr>\n",
       "    <tr>\n",
       "      <th>1</th>\n",
       "      <td>1600</td>\n",
       "      <td>3</td>\n",
       "      <td>329900</td>\n",
       "    </tr>\n",
       "    <tr>\n",
       "      <th>2</th>\n",
       "      <td>2400</td>\n",
       "      <td>3</td>\n",
       "      <td>369000</td>\n",
       "    </tr>\n",
       "    <tr>\n",
       "      <th>3</th>\n",
       "      <td>1416</td>\n",
       "      <td>2</td>\n",
       "      <td>232000</td>\n",
       "    </tr>\n",
       "    <tr>\n",
       "      <th>4</th>\n",
       "      <td>3000</td>\n",
       "      <td>4</td>\n",
       "      <td>539900</td>\n",
       "    </tr>\n",
       "  </tbody>\n",
       "</table>\n",
       "</div>"
      ],
      "text/plain": [
       "   square  bedrooms   price\n",
       "0    2104         3  399900\n",
       "1    1600         3  329900\n",
       "2    2400         3  369000\n",
       "3    1416         2  232000\n",
       "4    3000         4  539900"
      ]
     },
     "execution_count": 4,
     "metadata": {},
     "output_type": "execute_result"
    }
   ],
   "source": [
    "dfm = pd.read_csv('ex1data2.txt', names=['square', 'bedrooms' ,'price'])\n",
    "dfm.head()"
   ]
  },
  {
   "cell_type": "markdown",
   "metadata": {},
   "source": [
    "## Public part"
   ]
  },
  {
   "cell_type": "code",
   "execution_count": 5,
   "metadata": {},
   "outputs": [],
   "source": [
    "# 进行特征缩放\n",
    "def normalize_feature(df):\n",
    "    # DataFrame.apply(func, axis=0, .... args=(), **kwds) axis=0, 则从df中取一列数据到匿名参数中进行计算\n",
    "    # data = (df - df.mean())/df.std(); data.head();  <- 进行特征缩放方法2\n",
    "    return df.apply(lambda column: (column - column.mean())/column.std());  \n",
    "\n",
    "# 读取特征数据\n",
    "def get_X(df):\n",
    "    ones = pd.DataFrame({'ones': np.ones(len(df))});  # 生产m行1列的数据（）; 其中np.ones(X)生产X个值为1的数组\n",
    "    # 调用特征缩放函数\n",
    "    df = normalize_feature(df);\n",
    "    data = pd.concat([ones,df],axis=1);   # 数据合并（ones 和 df 合并）; axis = 1表示横向合并，默认值为axis = 0;  \n",
    "    return data.iloc[:,:-1].values;  # data.iloc[:,:-1].as_matrix()返回矩阵; iloc()方法通过位置索引获得数据，':'表示获得所有数据;as_matrix()用于进行dataframe到array的转换（但是高版本该方法被取缔）\n",
    "\n",
    "# 读取标签\n",
    "def get_y(df):\n",
    "    # 调用特征缩放函数\n",
    "    return df.iloc[:,-1].values;    # np.array(df.iloc[:,-1])，该方法把dataframe转化为数组形式, -1表示最后一列;  ; \n"
   ]
  },
  {
   "cell_type": "code",
   "execution_count": 6,
   "metadata": {},
   "outputs": [],
   "source": [
    "# 计算代价函数\n",
    "def computeCost(X, y, theta):\n",
    "    sqrError = np.power([((X * theta) - y)], 2);\n",
    "    return np.sum(sqrError) / (2 * len(X));"
   ]
  },
  {
   "cell_type": "markdown",
   "metadata": {},
   "source": [
    "## Get X,y (univariant)"
   ]
  },
  {
   "cell_type": "code",
   "execution_count": 7,
   "metadata": {},
   "outputs": [
    {
     "data": {
      "text/plain": [
       "32.072733877455676"
      ]
     },
     "execution_count": 7,
     "metadata": {},
     "output_type": "execute_result"
    }
   ],
   "source": [
    "# 取出X,y（单变量）\n",
    "X = get_X(df);\n",
    "y = get_y(df);\n",
    "# 需要把y转换为矩阵(本来y是数组,转为矩阵后为(1,97),所以需要进行转置)。为什么X不转矩阵呢？可能行数大于1且np.concat()的作用\n",
    "y = np.matrix(y).T;\n",
    "# 单变量代价函数有效性测试 期待值 32.07\n",
    "theta = np.zeros(X.shape[1]);  # X.shape[1]=2,代表特征数n 其中索引1表示列, 0表示行\n",
    "theta = np.matrix(theta).T;\n",
    "J = computeCost(X,y,theta); \n",
    "J"
   ]
  },
  {
   "cell_type": "markdown",
   "metadata": {},
   "source": [
    "# Get X,y (multivariable)"
   ]
  },
  {
   "cell_type": "code",
   "execution_count": 8,
   "metadata": {},
   "outputs": [
    {
     "data": {
      "text/plain": [
       "65591548106.45744"
      ]
     },
     "execution_count": 8,
     "metadata": {},
     "output_type": "execute_result"
    }
   ],
   "source": [
    "# 取出Xm,ym（多变量）\n",
    "Xm = get_X(dfm);\n",
    "ym = get_y(dfm);\n",
    "ym = np.matrix(ym).T;\n",
    "# 多变量代价函数有效性测试 期待值 65591548106.45744\n",
    "theta = np.zeros(Xm.shape[1]);  # X.shape[1]=2,代表特征数n 其中索引1表示列, 0表示行\n",
    "theta = np.matrix(theta).T;\n",
    "J = computeCost(Xm,ym,theta); \n",
    "J"
   ]
  },
  {
   "cell_type": "markdown",
   "metadata": {},
   "source": [
    "## Public part"
   ]
  },
  {
   "cell_type": "code",
   "execution_count": 9,
   "metadata": {},
   "outputs": [],
   "source": [
    "# 梯度下降函数实现\n",
    "def gradientDescent(X,y,theta,iterations,alpha):\n",
    "    cost = np.zeros(iterations);\n",
    "    for i in range(iterations):\n",
    "        Error = X.T*(X*theta - y);\n",
    "        theta = theta - (alpha/len(X))*Error;\n",
    "        cost[i] = computeCost(X,y,theta);\n",
    "    return theta,cost;"
   ]
  },
  {
   "cell_type": "markdown",
   "metadata": {},
   "source": [
    "## GradientDescent(univariant) "
   ]
  },
  {
   "cell_type": "code",
   "execution_count": 10,
   "metadata": {},
   "outputs": [
    {
     "data": {
      "text/plain": [
       "matrix([[0.27983706]])"
      ]
     },
     "execution_count": 10,
     "metadata": {},
     "output_type": "execute_result"
    }
   ],
   "source": [
    "# 初始化梯度下降参数\n",
    "iterations=1500;\n",
    "alpha=0.01;\n",
    "theta = np.zeros(X.shape[1]);  # X.shape[1]=2,代表特征数n 其中索引1表示列, 0表示行\n",
    "theta = np.matrix(theta).T;\n",
    "# 梯度下降函数测试（记住！ 特征缩放与没有缩放的theta值有不同）\n",
    "theta,cost = gradientDescent(X,y,theta,iterations,alpha);\n",
    "\n",
    "# 求得平均值和标准差，因为新的X值也需要进行特征缩放; \n",
    "meanValue = df.mean().values;\n",
    "stdValue = df.std().values;\n",
    "# 单变量预测检验\n",
    "# population = 3.5时，期待y值为0.27984\n",
    "x = [1,(3.5 - meanValue[0])/stdValue[0]];  \n",
    "np.matrix(x)*theta"
   ]
  },
  {
   "cell_type": "markdown",
   "metadata": {},
   "source": [
    "## Plot picture(univariant)"
   ]
  },
  {
   "cell_type": "code",
   "execution_count": 17,
   "metadata": {},
   "outputs": [
    {
     "data": {
      "image/png": "[encoded data removed]",
      "text/plain": [
       "<Figure size 432x288 with 1 Axes>"
      ]
     },
     "metadata": {
      "needs_background": "light"
     },
     "output_type": "display_data"
    },
    {
     "data": {
      "image/png": "[encoded data removed]",
      "text/plain": [
       "<Figure size 432x288 with 1 Axes>"
      ]
     },
     "metadata": {
      "needs_background": "light"
     },
     "output_type": "display_data"
    }
   ],
   "source": [
    "# 绘制拟合图像(若使用了特征缩放，则绘制图形时的X值，需要使用缩放之后的值)\n",
    "x = np.linspace(X[:,1].min(), X[:,1].max(), 100);  # 横坐标(从最小值 -最大值，分为100份 )\n",
    "f = theta[0, 0] + (theta[1, 0] * x);  # 纵坐标，利润\n",
    "# 把y变为数组形式\n",
    "y = np.array(y);\n",
    "fig, ax = plt.subplots(1,1,figsize=(6,4)); # 创建一个画布，并返回一个6*4的子图;  此函数可分解为 # fig = plt.figure() ;ax = fig.add_subplot(1,1,1)\n",
    "ax.plot(x, f, 'r', label='Prediction');  # 绘制假设函数\n",
    "ax.scatter(X[:,1], y, label='Traning Data');  # 绘制散点图\n",
    "ax.legend(loc=2)  # 2表示在左上角（放置描述信息）\n",
    "ax.set_xlabel('Population')\n",
    "ax.set_ylabel('Profit')\n",
    "ax.set_title('Predicted Profit vs. Population Size')\n",
    "plt.show()\n",
    "\n",
    "\n",
    "# 代价函数可视化\n",
    "ax = sns.lineplot(cost,np.arange(iterations)); # 使用的是线图\n",
    "ax.set_xlabel('iterations');\n",
    "ax.set_ylabel('cost');\n",
    "ax.set_title('population forecast profit');\n",
    "plt.show();"
   ]
  },
  {
   "cell_type": "markdown",
   "metadata": {},
   "source": [
    "## GradientDescent(multivariable)"
   ]
  },
  {
   "cell_type": "code",
   "execution_count": 12,
   "metadata": {},
   "outputs": [
    {
     "data": {
      "text/plain": [
       "matrix([[292748.08523215]])"
      ]
     },
     "execution_count": 12,
     "metadata": {},
     "output_type": "execute_result"
    }
   ],
   "source": [
    "# 初始化梯度下降参数\n",
    "iterations=50;\n",
    "alpha=0.1;\n",
    "theta = np.zeros(Xm.shape[1]);  # X.shape[1]=2,代表特征数n 其中索引1表示列, 0表示行\n",
    "theta = np.matrix(theta).T;\n",
    "# 梯度下降函数测试（记住！ 特征缩放与没有缩放的theta值有不同）\n",
    "theta,cost = gradientDescent(Xm,ym,theta,iterations,alpha);\n",
    "\n",
    "# 求得平均值和标准差，因为新的X值也需要进行特征缩放; \n",
    "meanValue = dfm.mean().values;\n",
    "stdValue = dfm.std().values;\n",
    "# 多变量预测检验\n",
    "# square = 1650, beadrooms=3时，期待y值为292748.08523215\n",
    "x = [1,(1650 - meanValue[0])/stdValue[0],(3 - meanValue[1])/stdValue[1]]; \n",
    "np.matrix(x)*theta"
   ]
  },
  {
   "cell_type": "markdown",
   "metadata": {},
   "source": [
    "## Plot picture(multivariable)"
   ]
  },
  {
   "cell_type": "code",
   "execution_count": 13,
   "metadata": {},
   "outputs": [
    {
     "data": {
      "image/png": "[encoded data removed]",
      "text/plain": [
       "<Figure size 864x576 with 1 Axes>"
      ]
     },
     "metadata": {
      "needs_background": "light"
     },
     "output_type": "display_data"
    }
   ],
   "source": [
    "fig,ax = plt.subplots(figsize=(12,8));\n",
    "ax.plot(np.arange(iterations),cost,'r');\n",
    "ax.set_xlabel('iterations');\n",
    "ax.set_ylabel('cost');\n",
    "ax.set_title('house prices prediction');\n",
    "plt.show();"
   ]
  },
  {
   "cell_type": "markdown",
   "metadata": {},
   "source": [
    "## Normal function"
   ]
  },
  {
   "cell_type": "code",
   "execution_count": 14,
   "metadata": {},
   "outputs": [],
   "source": [
    "# 正规方程实现\n",
    "def normalFunction(X,y):\n",
    "    theta = np.linalg.inv(X.T@X)@X.T@y;  # np.linalg.inv用以求矩阵逆; @相当于X.T.dot(X)； dot()是矩阵乘法; *是矩阵元素两两相乘\n",
    "    return theta;"
   ]
  },
  {
   "cell_type": "code",
   "execution_count": 15,
   "metadata": {},
   "outputs": [
    {
     "data": {
      "text/plain": [
       "matrix([[340412.65957447],\n",
       "        [110631.05027885],\n",
       "        [ -6649.47427082]])"
      ]
     },
     "execution_count": 15,
     "metadata": {},
     "output_type": "execute_result"
    }
   ],
   "source": [
    "# 单变量测试\n",
    "theta = normalFunction(X,y);\n",
    "theta\n",
    "# 多变量测试\n",
    "theta = normalFunction(Xm,ym);\n",
    "theta"
   ]
  },
  {
   "cell_type": "code",
   "execution_count": null,
   "metadata": {},
   "outputs": [],
   "source": []
  }
 ],
 "metadata": {
  "kernelspec": {
   "display_name": "Python 3",
   "language": "python",
   "name": "python3"
  },
  "language_info": {
   "codemirror_mode": {
    "name": "ipython",
    "version": 3
   },
   "file_extension": ".py",
   "mimetype": "text/x-python",
   "name": "python",
   "nbconvert_exporter": "python",
   "pygments_lexer": "ipython3",
   "version": "3.7.3"
  }
 },
 "nbformat": 4,
 "nbformat_minor": 2
}
